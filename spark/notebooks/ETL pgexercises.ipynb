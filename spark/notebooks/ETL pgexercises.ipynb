{
 "cells": [
  {
   "cell_type": "code",
   "execution_count": 0,
   "metadata": {
    "application/vnd.databricks.v1+cell": {
     "cellMetadata": {
      "byteLimit": 2048000,
      "rowLimit": 10000
     },
     "inputWidgets": {},
     "nuid": "e05080dc-94f9-40d0-b44b-9f90c0fafd1a",
     "showTitle": true,
     "title": "bookings DF"
    }
   },
   "outputs": [
    {
     "output_type": "stream",
     "name": "stdout",
     "output_type": "stream",
     "text": [
      "root\n |-- bookid: integer (nullable = true)\n |-- facid: integer (nullable = true)\n |-- memid: integer (nullable = true)\n |-- starttime: timestamp (nullable = true)\n |-- slots: integer (nullable = true)\n\n"
     ]
    }
   ],
   "source": [
    "from pyspark.sql.types import StructType, StructField, IntegerType, TimestampType\n",
    "\n",
    "file_location = \"/FileStore/tables/bookings.csv\"\n",
    "\n",
    "df = spark.read.format(\"csv\").option(\"header\", \"true\").option(\"inferSchema\", \"true\").load(file_location)\n",
    "\n",
    "df.printSchema()\n",
    "\n",
    "schema = StructType([\n",
    "    StructField(\"bookid\", IntegerType(), True),\n",
    "    StructField(\"facid\", IntegerType(), True),\n",
    "    StructField(\"memid\", IntegerType(), True),\n",
    "    StructField(\"starttime\", TimestampType(), True),\n",
    "    StructField(\"slots\", IntegerType(), True)\n",
    "])\n",
    "\n",
    "df = spark.read.format(\"csv\").option(\"header\", \"true\").schema(schema).load(file_location)\n",
    "\n",
    "spark.sql(\"DROP TABLE IF EXISTS bookings\")\n",
    "\n",
    "df.write.saveAsTable(\"bookings\")"
   ]
  },
  {
   "cell_type": "code",
   "execution_count": 0,
   "metadata": {
    "application/vnd.databricks.v1+cell": {
     "cellMetadata": {
      "byteLimit": 2048000,
      "rowLimit": 10000
     },
     "inputWidgets": {},
     "nuid": "d29919d8-e5f8-400e-819c-5c09da66f384",
     "showTitle": true,
     "title": "facilities DF"
    }
   },
   "outputs": [
    {
     "output_type": "stream",
     "name": "stdout",
     "output_type": "stream",
     "text": [
      "root\n |-- facid: integer (nullable = true)\n |-- name: string (nullable = true)\n |-- membercost: double (nullable = true)\n |-- guestcost: double (nullable = true)\n |-- initialoutlay: integer (nullable = true)\n |-- monthlymaintenance: integer (nullable = true)\n\n"
     ]
    }
   ],
   "source": [
    "file_location_facilities = \"/FileStore/tables/facilities.csv\"\n",
    "\n",
    "df_facilities = spark.read.format(\"csv\").option(\"header\",\"true\").option(\"inferSchema\",\"true\").load(file_location_facilities)\n",
    "\n",
    "df_facilities.printSchema()\n",
    "\n",
    "schema_facilities = StructType([\n",
    "    StructField(\"facid\", IntegerType(), True),\n",
    "    StructField(\"name\", StringType(), True),\n",
    "    StructField(\"membercost\", FloatType(), True),\n",
    "    StructField(\"guestcost\", FloatType(), True),\n",
    "    StructField(\"initialoutlay\", IntegerType(), True),\n",
    "    StructField(\"monthlymaintenance\", IntegerType(), True)\n",
    "])\n",
    "\n",
    "df_facilities = spark.read.format(\"csv\").option(\"header\",\"true\").schema(schema_facilities).load(file_location_facilities)\n",
    "\n",
    "spark.sql(\"DROP TABLE IF EXISTS facilities\")\n",
    "\n",
    "df_facilities.write.saveAsTable(\"facilities\")\n",
    "\n"
   ]
  },
  {
   "cell_type": "code",
   "execution_count": 0,
   "metadata": {
    "application/vnd.databricks.v1+cell": {
     "cellMetadata": {
      "byteLimit": 2048000,
      "rowLimit": 10000
     },
     "inputWidgets": {},
     "nuid": "6bad43cb-f014-4148-8a68-94c8ce658a7f",
     "showTitle": true,
     "title": "members DF"
    }
   },
   "outputs": [
    {
     "output_type": "stream",
     "name": "stdout",
     "output_type": "stream",
     "text": [
      "root\n |-- memid: integer (nullable = true)\n |-- surname: string (nullable = true)\n |-- firstname: string (nullable = true)\n |-- address: string (nullable = true)\n |-- zipcode: integer (nullable = true)\n |-- telephone: string (nullable = true)\n |-- recommendedby: integer (nullable = true)\n |-- joindate: timestamp (nullable = true)\n\n"
     ]
    }
   ],
   "source": [
    "from pyspark.sql.types import StructType, StructField, StringType, FloatType, TimestampType, IntegerType\n",
    "\n",
    "file_location_members = \"/FileStore/tables/members.csv\"\n",
    "\n",
    "df_members = spark.read.format(\"csv\").option(\"header\", \"true\").option(\"inferSchema\", \"true\").load(file_location_members)\n",
    "\n",
    "df_members.printSchema()\n",
    "\n",
    "schema_members = StructType([\n",
    "    StructField(\"memid\", IntegerType(), True),\n",
    "    StructField(\"surname\", StringType(), True),\n",
    "    StructField(\"firstname\", StringType(), True),\n",
    "    StructField(\"address\", StringType(), True),\n",
    "    StructField(\"zipcode\", IntegerType(), True),\n",
    "    StructField(\"telephone\", StringType(), True),\n",
    "    StructField(\"recommendedby\", IntegerType(), True),\n",
    "    StructField(\"joindate\", TimestampType(), True),\n",
    "])\n",
    "\n",
    "df_members = spark.read.format(\"csv\").option(\"header\", \"true\").schema(schema_members).load(file_location_members)\n",
    "\n",
    "spark.sql(\"DROP TABLE IF EXISTS members\")\n",
    "\n",
    "df_members.write.saveAsTable(\"members\")"
   ]
  }
 ],
 "metadata": {
  "application/vnd.databricks.v1+notebook": {
   "dashboards": [],
   "environmentMetadata": null,
   "language": "python",
   "notebookMetadata": {
    "pythonIndentUnit": 4
   },
   "notebookName": "ETL pgexercises",
   "widgets": {}
  }
 },
 "nbformat": 4,
 "nbformat_minor": 0
}
